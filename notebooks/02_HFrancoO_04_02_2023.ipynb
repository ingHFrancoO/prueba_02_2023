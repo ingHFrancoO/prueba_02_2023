{
 "cells": [
  {
   "attachments": {},
   "cell_type": "markdown",
   "metadata": {},
   "source": [
    "# Prueba para cargo de cientifico de datos : **2. Modelo de ML y AWS**\n",
    "-   *Nombre:* Humberto Franco Osorio\n",
    "-   *Fecha:* 6 de febrero\n",
    "\n",
    "\n",
    "**A.  AWS Lambda, SageMaker Studio y Amazon API Gateway:**\n",
    "\n",
    "Para configurar una API que permita hacer uso de un modelo productivo desarrolladao, utilizando Amazon SageMaker mediante Amazon API Gateway y AWS Lambda, realizaria las siguientes acciones: (i) Crearia la funcion LAMBA qula cual se encargaria de recivir las solicitudes a la API, y esta las pasaria a Amazon Sagemaker el cual \n",
    "\n",
    "Cree una función de AWS Lambda que se encargue de las solicitudes de API entrantes, las envíe al punto de enlace de Amazon SageMaker, además esta función landa se encargará del envío de la respuesta de la API. Utilizando API Gateway configuraremos el acceso público, para que la API pueda ser consumida desde una URL pública. \n",
    "\n",
    "Para esto inicialmente creó una función de AWS Lambda, para esto seleccione el entorno de tiempo de ejecución que utilizare (En mi caso utilizaría Python o Node.js que son entornos que dominó) y en esta establezco el enlace con  enlace de Amazon SageMaker que es el servicio donde se encuentra almacenado mi modelo de ML y lo podre consumir. Paso seguido en la consola de administración AWS, creó un nuevo Amazon API Gateway y  creó un nuevo recurso para ser asociado con la función Lambda, para asi implementar dicho Amazon API Gateway y asi obtener una URL pública  que podre utilizar para acceder a la función de Lambda.\n",
    "\n",
    "**B. AWS EC2:**\n",
    "\n",
    "Servicio por medio de este es posible la generación de una máquina virtual en la nube, la cual cuente en su interior con una API la cual se encargue de utilizar un modelo de machine learning, esta API puede estar montada en diversos lenguajes de programación como Python utilizando frameworks como: DJANGO, FLASK o FASTAPI, además de permitirnos subir a la nube plataforma que se encargue de consumir dichos modelos. Esta opción provee la gran ventaja de permitir la configuración de configuración de balanceadores de carga."
   ]
  }
 ],
 "metadata": {
  "kernelspec": {
   "display_name": "env",
   "language": "python",
   "name": "python3"
  },
  "language_info": {
   "name": "python",
   "version": "3.10.6"
  },
  "orig_nbformat": 4,
  "vscode": {
   "interpreter": {
    "hash": "a415913ca91a22a70653d9c0db4bbec793948985fa9bed062ca17ee46eb61a90"
   }
  }
 },
 "nbformat": 4,
 "nbformat_minor": 2
}
