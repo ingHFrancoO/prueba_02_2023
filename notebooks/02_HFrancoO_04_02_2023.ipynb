{
 "cells": [
  {
   "attachments": {},
   "cell_type": "markdown",
   "metadata": {},
   "source": [
    "# Prueba para cargo de cientifico de datos : **2. Modelo de ML y AWS**\n",
    "-   *Nombre:* Humberto Franco Osorio\n",
    "-   *Fecha:* 6 de febrero\n",
    "\n",
    "\n",
    "**Construcción de API**: La API puede estar desplegada utilizando Python, partiendo de un archivo JOBLIB, y utilizando la librería JOBLIB de python podremos consumir y utilizar dicho modelo, y por medio del uso de frameworks como DJANGOP, FLASK o FASTAPI se podrá desplegar la API de forma sencilla y rápida.\n",
    "\n",
    "**Despliegue de API en AWS**:\n",
    "AWS ofrece una variedad de servicios propios para el despliegue de un modelo de Machine Learning para su consumo en forma de API, entre ellas nos podemos encontrar Lambda y SageMaker Studio, además de poderse usar de forma alternativa el servicio de EC2. \n",
    "\n",
    "- AWS LAMBDA:\n",
    "\n",
    "- AWS EC2:\n",
    "Servicio que inicialmente no es diseñado para el despliegue de modelos de ML, pero por medio de este es posible la generación de una máquina virtual en la nube, la cual cuente en su interior con una API la cual se encargue de utilizar un modelo de machine learning, esta API puede estar montada en diversos lenguajes de programación como Python utilizando frameworks como: DJANGO, FLASK o FASTAPI, además de permitirnos subir a la nube plataforma que se encargue de consumir dichos modelos. Esta opción provee la gran ventaja de permitir la configuración de configuración de balanceadores de carga.\n"
   ]
  }
 ],
 "metadata": {
  "kernelspec": {
   "display_name": "env",
   "language": "python",
   "name": "python3"
  },
  "language_info": {
   "name": "python",
   "version": "3.10.6"
  },
  "orig_nbformat": 4,
  "vscode": {
   "interpreter": {
    "hash": "a415913ca91a22a70653d9c0db4bbec793948985fa9bed062ca17ee46eb61a90"
   }
  }
 },
 "nbformat": 4,
 "nbformat_minor": 2
}
