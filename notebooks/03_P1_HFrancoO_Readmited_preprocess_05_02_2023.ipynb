{
 "cells": [
  {
   "attachments": {},
   "cell_type": "markdown",
   "metadata": {},
   "source": [
    "# Prueba para cargo de cientifico de datos : **3. Modelo de ML JobSatisfaction.**\n",
    "-   *Nombre:* Humberto Franco Osorio\n",
    "-   *Fecha:* 6 de febrero\n",
    "-   *Link:* https://github.com/ingHFrancoO/prueba_02_2023\n",
    "\n",
    "#### Contenido\n",
    "1.  Introducción\n",
    "1.  Objetivo\n",
    "\n",
    "\n",
    "#### Introducción\n",
    "Analizar los factores que influencian que tan satisfechos pueden estar los empleados con su trabajo, analizando la información pertinente a su estado de contratación.\n",
    "\n",
    "### Objetivo\n",
    "¿Qué tan satisfecho está un empleado en su trabajo?\n"
   ]
  },
  {
   "attachments": {},
   "cell_type": "markdown",
   "metadata": {},
   "source": [
    "## 1.   Importamos librerias necesarias"
   ]
  },
  {
   "cell_type": "code",
   "execution_count": 1,
   "metadata": {},
   "outputs": [],
   "source": [
    "import pandas as pd\n",
    "pd.options.plotting.backend = \"plotly\"\n",
    "import numpy as np"
   ]
  },
  {
   "attachments": {},
   "cell_type": "markdown",
   "metadata": {},
   "source": [
    "## 2.   Carga de dataset"
   ]
  },
  {
   "cell_type": "code",
   "execution_count": 2,
   "metadata": {},
   "outputs": [],
   "source": [
    "data_raw = pd.read_excel('../data/raw/info_satisfaccion_trabajo.xlsx')"
   ]
  },
  {
   "attachments": {},
   "cell_type": "markdown",
   "metadata": {},
   "source": [
    "Dataset original: 35 columnas (atributos) - 1470 filas (registros)."
   ]
  },
  {
   "attachments": {},
   "cell_type": "markdown",
   "metadata": {},
   "source": [
    "## 3.   Descripción de datos y limpieza"
   ]
  },
  {
   "attachments": {},
   "cell_type": "markdown",
   "metadata": {},
   "source": [
    "| Titulo                        | Tipo         | Descripcion y valores             | % valores perdidos   |\n",
    "|---:|:-----------|:------|:------|\n",
    "| Age                           |   Numérica    |  Edad de empleado.                |   0   |\n",
    "| Attrition                     |   Nominal     |  deserción (Yes, No)              |   0   |\n",
    "| BusinessTravel                |   Ordinal     |  Frecuencia de viajes de negocio (Non-Travel, Travel_Rarely, Travel_Frequently).          |   0   |\n",
    "| DailyRate                     |   Numérica    |  Tarifa diaria.                   |   0   |\n",
    "| Department                    |   Nominal     |  Departamento en el que labora (Sales, Research & Development, HumanResources).           |   0   |\n",
    "| DistanceFromHome              |   Numeric     |  Distancia casa-oficina (Km).      |   0   |\n",
    "| Education                     |   Ordinal     |  Nivel educativo de empleado (1, 2, 3, 4, 5).                                             |   0   |\n",
    "| EducationField                |   Numeric     |  Campo de educación (Human Resources, Life Sciences, Marketing, Medical, Other, Tchnical Degree).                                                      |   0   |\n",
    "| EmployeeCount                 |   Único       |  Recuento de empleado (1).        |   0   |\n",
    "| EmployeeNumber                |   Numérica    |  Número de empleado.              |   0   |\n",
    "| EnvironmentSatisfaction       |   Ordinal     |  Satisfacción medioambiental  (1, 2, 3, 4).                                               |   0   |\n",
    "| Gender                        |   Nominal     |  Genero (Female, Male).           |   0   |\n",
    "| HourlyRate                    |   Numérica    |  Precio por hora.                 |   0   |\n",
    "| JobInvolvement                |   Ordinal     |  Participación en el trabajo (1, 2, 3, 4).                                                |   0   |\n",
    "| JobLevel                      |   Ordinal     |  Nivel de empleo (1, 2, 3, 4, 5).                                                         |   0   |\n",
    "| JobRole                       |   Nominal     |  Role de trabajador (Sales Executive, Research Scientist, Laboratory Technician, Manufacturing Director, Healthcare Representative, Manager, Sales Representative, Research Director, Human Resources).              |   0   |\n",
    "| MaritalStatus                 |   Nominal     |  Estado civil (Divorced, Married, Single).                                                |   0   |\n",
    "| MonthlyIncome                 |   Numérica    |  Ingresos mensuales.              |   0   |\n",
    "| MonthlyRate                   |   Numérica    |  Tarifa mensual.                  |   0   |\n",
    "| NumCompaniesWorked            |   Numérica    |  Número de empresas con las que ha trabajado.                                             |   0   |\n",
    "| Over18                        |   Nominal     |  Mayor de 18 años? (Y).           |   0   |\n",
    "| OverTime                      |   Nominal     |  Horas extras (Yes, No).          |   0   |\n",
    "| PercentSalaryHike             |   Numérica    |  Porcentaje de aumento salarial.                                                         |   0   |\n",
    "| PerformanceRating             |   Numérica    |  Calificación del rendimiento.                                                           |   0   |\n",
    "| RelationshipSatisfaction      |   Ordinal     |  Satisfacción en las relaciones.  (1, 2, 3, 4).                                          |   0   |\n",
    "| StandardHours                 |   Único       |  Horario de trabajo (80).                                                                |   0   |\n",
    "| StockOptionLevel              |   Ordinal     |  Nivel de opciones sobre acciones (0, 1, 2, 3).                                          |   0   |\n",
    "| TotalWorkingYears             |   Numérica    |  Total de años de trabajo.        |   0   |\n",
    "| TrainingTimesLastYear         |   Numérica    |  Tiempos de formación el año pasado.                                                     |   0   |\n",
    "| WorkLifeBalance               |   Numérica    |  Equilibrio entre la vida laboral y personal (1, 2, 3, 4).                               |   0   |\n",
    "| YearsAtCompany                |   Numérica    |  Años en la empresa.              |   0   |\n",
    "| YearsInCurrentRole            |   Numérica    |  Años en el puesto actual.        |   0   |\n",
    "| YearsSinceLastPromotion       |   Numérica    |  Años desde la última promoción.  |   0   |\n",
    "| YearsWithCurrManager          |   Numérica    |  Años con el actual director.     |   0   |\n",
    "| JobSatisfaction               |   Nominal     |  Satisfacción laboral (1, 2, 3, 4).                                                      |   0   |"
   ]
  },
  {
   "cell_type": "code",
   "execution_count": 3,
   "metadata": {},
   "outputs": [
    {
     "name": "stdout",
     "output_type": "stream",
     "text": [
      "<class 'pandas.core.frame.DataFrame'>\n",
      "RangeIndex: 1470 entries, 0 to 1469\n",
      "Data columns (total 35 columns):\n",
      " #   Column                    Non-Null Count  Dtype \n",
      "---  ------                    --------------  ----- \n",
      " 0   Age                       1470 non-null   int64 \n",
      " 1   Attrition                 1470 non-null   object\n",
      " 2   BusinessTravel            1470 non-null   object\n",
      " 3   DailyRate                 1470 non-null   int64 \n",
      " 4   Department                1470 non-null   object\n",
      " 5   DistanceFromHome          1470 non-null   int64 \n",
      " 6   Education                 1470 non-null   int64 \n",
      " 7   EducationField            1470 non-null   object\n",
      " 8   EmployeeCount             1470 non-null   int64 \n",
      " 9   EmployeeNumber            1470 non-null   int64 \n",
      " 10  EnvironmentSatisfaction   1470 non-null   int64 \n",
      " 11  Gender                    1470 non-null   object\n",
      " 12  HourlyRate                1470 non-null   int64 \n",
      " 13  JobInvolvement            1470 non-null   int64 \n",
      " 14  JobLevel                  1470 non-null   int64 \n",
      " 15  JobRole                   1470 non-null   object\n",
      " 16  JobSatisfaction           1470 non-null   int64 \n",
      " 17  MaritalStatus             1470 non-null   object\n",
      " 18  MonthlyIncome             1470 non-null   int64 \n",
      " 19  MonthlyRate               1470 non-null   int64 \n",
      " 20  NumCompaniesWorked        1470 non-null   int64 \n",
      " 21  Over18                    1470 non-null   object\n",
      " 22  OverTime                  1470 non-null   object\n",
      " 23  PercentSalaryHike         1470 non-null   int64 \n",
      " 24  PerformanceRating         1470 non-null   int64 \n",
      " 25  RelationshipSatisfaction  1470 non-null   int64 \n",
      " 26  StandardHours             1470 non-null   int64 \n",
      " 27  StockOptionLevel          1470 non-null   int64 \n",
      " 28  TotalWorkingYears         1470 non-null   int64 \n",
      " 29  TrainingTimesLastYear     1470 non-null   int64 \n",
      " 30  WorkLifeBalance           1470 non-null   int64 \n",
      " 31  YearsAtCompany            1470 non-null   int64 \n",
      " 32  YearsInCurrentRole        1470 non-null   int64 \n",
      " 33  YearsSinceLastPromotion   1470 non-null   int64 \n",
      " 34  YearsWithCurrManager      1470 non-null   int64 \n",
      "dtypes: int64(26), object(9)\n",
      "memory usage: 402.1+ KB\n"
     ]
    }
   ],
   "source": [
    "data_raw.info()"
   ]
  },
  {
   "attachments": {},
   "cell_type": "markdown",
   "metadata": {},
   "source": [
    "Se estudian los valores únicos presentes en cada columna, con el objetivo de identificar valores fuera de normal teniendo en cuenta el tipo de variable y los valores permitidos en estas."
   ]
  },
  {
   "cell_type": "code",
   "execution_count": 4,
   "metadata": {},
   "outputs": [
    {
     "name": "stdout",
     "output_type": "stream",
     "text": [
      "-----------------------------------------------------------------------------------\n",
      "Age = [41 49 37 33 27 32 59 30 38 36 35 29 31 34 28 22 53 24 21 42 44 46 39 43\n",
      " 50 26 48 55 45 56 23 51 40 54 58 20 25 19 57 52 47 18 60]\n",
      "Number option 43\n",
      "-----------------------------------------------------------------------------------\n",
      "Attrition = ['Yes' 'No']\n",
      "Number option 2\n",
      "-----------------------------------------------------------------------------------\n",
      "BusinessTravel = ['Travel_Rarely' 'Travel_Frequently' 'Non-Travel']\n",
      "Number option 3\n",
      "-----------------------------------------------------------------------------------\n",
      "DailyRate = [1102  279 1373 1392  591 1005 1324 1358  216 1299  809  153  670 1346\n",
      "  103 1389  334 1123 1219  371  673 1218  419  391  699 1282 1125  691\n",
      "  477  705  924 1459  125  895  813 1273  869  890  852 1141  464 1240\n",
      " 1357  994  721 1360 1065  408 1211 1229  626 1434 1488 1097 1443  515\n",
      "  853 1142  655 1115  427  653  989 1435 1223  836 1195 1339  664  318\n",
      " 1225 1328 1082  548  132  746  776  193  397  945 1214  111  573 1153\n",
      " 1400  541  432  288  669  530  632 1334  638 1093 1217 1353  120  682\n",
      "  489  807  827  871  665 1040 1420  240 1280  534 1456  658  142 1127\n",
      " 1031 1189 1354 1467  922  394 1312  750  441  684  249  841  147  528\n",
      "  594  470  957  542  802 1355 1150 1329  959 1033 1316  364  438  689\n",
      "  201 1427  857  933 1181 1395  662 1436  194  967 1496 1169 1145  630\n",
      "  303 1256  440 1450 1452  465  702 1157  602 1480 1268  713  134  526\n",
      " 1380  140  629 1356  328 1084  931  692 1069  313  894  556 1344  290\n",
      "  138  926 1261  472 1002  878  905 1180  121 1136  635 1151  644 1045\n",
      "  829 1242 1469  896  992 1052 1147 1396  663  119  979  319 1413  944\n",
      " 1323  532  818  854 1034  771 1401 1431  976 1411 1300  252 1327  832\n",
      " 1017 1199  504  505  916 1247  685  269 1416  833  307 1311  128  488\n",
      "  529 1210 1463  675 1385 1403  452  666 1158  228  996  728 1315  322\n",
      " 1479  797 1070  442  496 1372  920  688 1449 1117  636  506  444  950\n",
      "  889  555  230 1232  566 1302  812 1476  218 1132 1105  906  849  390\n",
      "  106 1249  192  553  117  185 1091  723 1220  588 1377 1018 1275  798\n",
      "  672 1162  508 1482  559  210  928 1001  549 1124  738  570 1130 1192\n",
      "  343  144 1296 1309  483  810  544 1062 1319  641 1332  756  845  593\n",
      " 1171  350  921 1144  143 1046  575  156 1283  755  304 1178  329 1362\n",
      " 1371  202  253  164 1107  759 1305  982  821 1381  480 1473  891 1063\n",
      "  645 1490  317  422 1485 1368 1448  296 1398 1349  986 1099 1116 1499\n",
      "  983 1009 1303 1274 1277  587  413 1276  988 1474  163  267  619  302\n",
      "  443  828  561  426  232 1306 1094  509  775  195  258  471  799  956\n",
      "  535 1495  446 1245  703  823 1246  622 1287  448  254 1365  538  525\n",
      "  558  782  362 1236 1112  204 1343  604 1216  646  160  238 1397  306\n",
      "  991  482 1176  913 1076  727  885  243  806  817 1410 1207 1442  693\n",
      "  929  562  608  580  970 1179  294  314  316  654  168  381  217  501\n",
      "  650  141  804  975 1090  346  430  268  167  621  527  883  954  310\n",
      "  719  725  715  657 1146  182  376  571  384  791 1111 1243 1092 1325\n",
      "  805  213  118  676 1252  286 1258  932 1041  859  720  946 1184  436\n",
      "  589  760  887 1318  625  180  586 1012  661  930  342 1230 1271 1278\n",
      "  607  130  300  583 1418 1269  379  395 1265 1222  341  868 1231  102\n",
      "  881 1383 1075  374 1086  781  177  500 1425 1454  617 1085  995 1122\n",
      "  618  546  462 1198 1272  154 1137 1188  188 1333  867  263  938  129\n",
      "  616  498 1404 1053  289 1376  231  152  882  903 1379  335  722  461\n",
      "  974 1126  840 1134  248  955  939 1391 1206  287 1441  109 1066  277\n",
      "  466 1055  265  135  247 1035  266  145 1038 1234 1109 1089  788  124\n",
      "  660 1186 1464  796  415  769 1003 1366  330 1492 1204  309 1330  469\n",
      "  697 1262 1050  770  406  203 1308  984  439  793 1451 1182  174  490\n",
      "  718  433  773  603  874  367  199  481  647 1384  902  819  862 1457\n",
      "  977  942 1402 1421 1361  917  200  150  179  696  116  363  107 1465\n",
      "  458 1212 1103  966 1010  326 1098  969 1167  694 1320  536  373  599\n",
      "  251  131  237 1429  648  735  531  429  968  879  640  412  848  360\n",
      " 1138  325 1322  299 1030  634  524  256 1060  935  495  282  206  943\n",
      "  523  507  601  855 1291 1405 1369  999 1202  285  404  736 1498 1200\n",
      " 1439  499  205  683 1462  949  652  332 1475  337  971 1174  667  560\n",
      "  172  383 1255  359  401  377  592 1445 1221  866  981  447 1326  748\n",
      "  990  405  115  790  830 1193 1423  467  271  410 1083  516  224  136\n",
      " 1029  333 1440  674 1342  898  824  492  598  740  888 1288  104 1108\n",
      "  479 1351  474  437  884 1370  264 1059  563  457 1313  241 1015  336\n",
      " 1387  170  208  671  711  737 1470  365  763  567  486  772  301  311\n",
      "  584  880  392  148  708 1259  786  370  678  146  581  918 1238  585\n",
      "  741  552  369  717  543  964  792  611  176  897  600 1054  428  181\n",
      "  211 1079  590  305  953  478 1375  244  511 1294  196  734 1239 1253\n",
      " 1128 1336  234  766  261 1194  431  572 1422 1297  574  355  207  706\n",
      "  280  726  414  352 1224  459 1254 1131  835 1172 1266  783  219 1213\n",
      " 1096 1251 1394  605 1064 1337  937  157  754 1168  155 1444  189  911\n",
      " 1321 1154  557  642  801  161 1382 1037  105  582  704  345 1120 1378\n",
      "  468  613 1023  628]\n",
      "Number option 886\n",
      "-----------------------------------------------------------------------------------\n",
      "Department = ['Sales' 'Research & Development' 'Human Resources']\n",
      "Number option 3\n",
      "-----------------------------------------------------------------------------------\n",
      "DistanceFromHome = [ 1  8  2  3 24 23 27 16 15 26 19 21  5 11  9  7  6 10  4 25 12 18 29 22\n",
      " 14 20 28 17 13]\n",
      "Number option 29\n",
      "-----------------------------------------------------------------------------------\n",
      "Education = [2 1 4 3 5]\n",
      "Number option 5\n",
      "-----------------------------------------------------------------------------------\n",
      "EducationField = ['Life Sciences' 'Other' 'Medical' 'Marketing' 'Technical Degree'\n",
      " 'Human Resources']\n",
      "Number option 6\n",
      "-----------------------------------------------------------------------------------\n",
      "EmployeeCount = [1]\n",
      "Number option 1\n",
      "-----------------------------------------------------------------------------------\n",
      "EmployeeNumber = [   1    2    4 ... 2064 2065 2068]\n",
      "Number option 1470\n",
      "-----------------------------------------------------------------------------------\n",
      "EnvironmentSatisfaction = [2 3 4 1]\n",
      "Number option 4\n",
      "-----------------------------------------------------------------------------------\n",
      "Gender = ['Female' 'Male']\n",
      "Number option 2\n",
      "-----------------------------------------------------------------------------------\n",
      "HourlyRate = [ 94  61  92  56  40  79  81  67  44  84  49  31  93  50  51  80  96  78\n",
      "  45  82  53  83  58  72  48  42  41  86  97  75  33  37  73  98  36  47\n",
      "  71  30  43  99  59  95  57  76  87  66  55  32  52  70  62  64  63  60\n",
      " 100  46  39  77  35  91  54  34  90  65  88  85  89  68  69  74  38]\n",
      "Number option 71\n",
      "-----------------------------------------------------------------------------------\n",
      "JobInvolvement = [3 2 4 1]\n",
      "Number option 4\n",
      "-----------------------------------------------------------------------------------\n",
      "JobLevel = [2 1 3 4 5]\n",
      "Number option 5\n",
      "-----------------------------------------------------------------------------------\n",
      "JobRole = ['Sales Executive' 'Research Scientist' 'Laboratory Technician'\n",
      " 'Manufacturing Director' 'Healthcare Representative' 'Manager'\n",
      " 'Sales Representative' 'Research Director' 'Human Resources']\n",
      "Number option 9\n",
      "-----------------------------------------------------------------------------------\n",
      "JobSatisfaction = [4 2 3 1]\n",
      "Number option 4\n",
      "-----------------------------------------------------------------------------------\n",
      "MaritalStatus = ['Single' 'Married' 'Divorced']\n",
      "Number option 3\n",
      "-----------------------------------------------------------------------------------\n",
      "MonthlyIncome = [5993 5130 2090 ... 9991 5390 4404]\n",
      "Number option 1349\n",
      "-----------------------------------------------------------------------------------\n",
      "MonthlyRate = [19479 24907  2396 ...  5174 13243 10228]\n",
      "Number option 1427\n",
      "-----------------------------------------------------------------------------------\n",
      "NumCompaniesWorked = [8 1 6 9 0 4 5 2 7 3]\n",
      "Number option 10\n",
      "-----------------------------------------------------------------------------------\n",
      "Over18 = ['Y']\n",
      "Number option 1\n",
      "-----------------------------------------------------------------------------------\n",
      "OverTime = ['Yes' 'No']\n",
      "Number option 2\n",
      "-----------------------------------------------------------------------------------\n",
      "PercentSalaryHike = [11 23 15 12 13 20 22 21 17 14 16 18 19 24 25]\n",
      "Number option 15\n",
      "-----------------------------------------------------------------------------------\n",
      "PerformanceRating = [3 4]\n",
      "Number option 2\n",
      "-----------------------------------------------------------------------------------\n",
      "RelationshipSatisfaction = [1 4 2 3]\n",
      "Number option 4\n",
      "-----------------------------------------------------------------------------------\n",
      "StandardHours = [80]\n",
      "Number option 1\n",
      "-----------------------------------------------------------------------------------\n",
      "StockOptionLevel = [0 1 3 2]\n",
      "Number option 4\n",
      "-----------------------------------------------------------------------------------\n",
      "TotalWorkingYears = [ 8 10  7  6 12  1 17  5  3 31 13  0 26 24 22  9 19  2 23 14 15  4 29 28\n",
      " 21 25 20 11 16 37 38 30 40 18 36 34 32 33 35 27]\n",
      "Number option 40\n",
      "-----------------------------------------------------------------------------------\n",
      "TrainingTimesLastYear = [0 3 2 5 1 4 6]\n",
      "Number option 7\n",
      "-----------------------------------------------------------------------------------\n",
      "WorkLifeBalance = [1 3 2 4]\n",
      "Number option 4\n",
      "-----------------------------------------------------------------------------------\n",
      "YearsAtCompany = [ 6 10  0  8  2  7  1  9  5  4 25  3 12 14 22 15 27 21 17 11 13 37 16 20\n",
      " 40 24 33 19 36 18 29 31 32 34 26 30 23]\n",
      "Number option 37\n",
      "-----------------------------------------------------------------------------------\n",
      "YearsInCurrentRole = [ 4  7  0  2  5  9  8  3  6 13  1 15 14 16 11 10 12 18 17]\n",
      "Number option 19\n",
      "-----------------------------------------------------------------------------------\n",
      "YearsSinceLastPromotion = [ 0  1  3  2  7  4  8  6  5 15  9 13 12 10 11 14]\n",
      "Number option 16\n",
      "-----------------------------------------------------------------------------------\n",
      "YearsWithCurrManager = [ 5  7  0  2  6  8  3 11 17  1  4 12  9 10 15 13 16 14]\n",
      "Number option 18\n",
      "-----------------------------------------------------------------------------------\n"
     ]
    }
   ],
   "source": [
    "print(\"-----------------------------------------------------------------------------------\")\n",
    "for col in data_raw:\n",
    "    print(f\"{col} = {data_raw[col].unique()}\")\n",
    "    print(\"Number option\",f\"{len(data_raw[col].unique())}\")\n",
    "    print(\"-----------------------------------------------------------------------------------\")"
   ]
  },
  {
   "attachments": {},
   "cell_type": "markdown",
   "metadata": {},
   "source": [
    "Ahora revisamos que el registro de un empleado no se encuentre duplicado en el data set, por medio del atributo **EmployeeNumber**, que corresponde al identificador del empleado."
   ]
  },
  {
   "cell_type": "code",
   "execution_count": 5,
   "metadata": {},
   "outputs": [
    {
     "data": {
      "text/plain": [
       "0"
      ]
     },
     "execution_count": 5,
     "metadata": {},
     "output_type": "execute_result"
    }
   ],
   "source": [
    "data_raw[\"EmployeeNumber\"].duplicated().sum()"
   ]
  },
  {
   "attachments": {},
   "cell_type": "markdown",
   "metadata": {},
   "source": [
    "No se registran registros de empleados repetidos, por tanto no es necesario realizar acciones de eliminación de duplicados, como tampoco fue necesario el emplear acciones para tratamiento de valores perdidos.\n",
    "\n",
    "Revisamos los valores que se encuentran en cada columna, encontrando que las columnas **EmployeeCount**, **Over18** y **StandardHours** son columnas que contienen valores únicos, por tanto se decide eliminar dado que no suministran información a el modelo.  Ademas la columna **EmployeeNumber** se decide eliminarse, dado que se trata de el identificador del empleado."
   ]
  },
  {
   "cell_type": "code",
   "execution_count": 6,
   "metadata": {},
   "outputs": [
    {
     "name": "stdout",
     "output_type": "stream",
     "text": [
      "<class 'pandas.core.frame.DataFrame'>\n",
      "RangeIndex: 1470 entries, 0 to 1469\n",
      "Data columns (total 31 columns):\n",
      " #   Column                    Non-Null Count  Dtype \n",
      "---  ------                    --------------  ----- \n",
      " 0   Age                       1470 non-null   int64 \n",
      " 1   Attrition                 1470 non-null   object\n",
      " 2   BusinessTravel            1470 non-null   object\n",
      " 3   DailyRate                 1470 non-null   int64 \n",
      " 4   Department                1470 non-null   object\n",
      " 5   DistanceFromHome          1470 non-null   int64 \n",
      " 6   Education                 1470 non-null   int64 \n",
      " 7   EducationField            1470 non-null   object\n",
      " 8   EnvironmentSatisfaction   1470 non-null   int64 \n",
      " 9   Gender                    1470 non-null   object\n",
      " 10  HourlyRate                1470 non-null   int64 \n",
      " 11  JobInvolvement            1470 non-null   int64 \n",
      " 12  JobLevel                  1470 non-null   int64 \n",
      " 13  JobRole                   1470 non-null   object\n",
      " 14  JobSatisfaction           1470 non-null   int64 \n",
      " 15  MaritalStatus             1470 non-null   object\n",
      " 16  MonthlyIncome             1470 non-null   int64 \n",
      " 17  MonthlyRate               1470 non-null   int64 \n",
      " 18  NumCompaniesWorked        1470 non-null   int64 \n",
      " 19  OverTime                  1470 non-null   object\n",
      " 20  PercentSalaryHike         1470 non-null   int64 \n",
      " 21  PerformanceRating         1470 non-null   int64 \n",
      " 22  RelationshipSatisfaction  1470 non-null   int64 \n",
      " 23  StockOptionLevel          1470 non-null   int64 \n",
      " 24  TotalWorkingYears         1470 non-null   int64 \n",
      " 25  TrainingTimesLastYear     1470 non-null   int64 \n",
      " 26  WorkLifeBalance           1470 non-null   int64 \n",
      " 27  YearsAtCompany            1470 non-null   int64 \n",
      " 28  YearsInCurrentRole        1470 non-null   int64 \n",
      " 29  YearsSinceLastPromotion   1470 non-null   int64 \n",
      " 30  YearsWithCurrManager      1470 non-null   int64 \n",
      "dtypes: int64(23), object(8)\n",
      "memory usage: 356.1+ KB\n"
     ]
    }
   ],
   "source": [
    "data_raw.drop(['EmployeeNumber', 'EmployeeCount', 'Over18', 'StandardHours'], axis=1, inplace=True)\n",
    "data_raw.info()"
   ]
  },
  {
   "attachments": {},
   "cell_type": "markdown",
   "metadata": {},
   "source": [
    "Ahora transformamos el tipoi de las variables al cual les corresponde."
   ]
  },
  {
   "cell_type": "code",
   "execution_count": 7,
   "metadata": {},
   "outputs": [],
   "source": [
    "categorical = ['Attrition', 'BusinessTravel', 'Department', 'Education', 'EnvironmentSatisfaction', 'Gender', 'JobInvolvement', 'JobLevel', 'JobRole', 'MaritalStatus', 'OverTime', 'RelationshipSatisfaction', 'StockOptionLevel']\n",
    "for col in categorical:\n",
    "    data_raw[col] = data_raw[col].astype('category')\n",
    "\n",
    "#Convertimos en categorica la variable objetivo\n",
    "data_raw['JobSatisfaction'] = data_raw['JobSatisfaction'].astype('category')"
   ]
  },
  {
   "attachments": {},
   "cell_type": "markdown",
   "metadata": {},
   "source": [
    "##  4.  Almacenamiento de dataset intermedio después de limpieza"
   ]
  },
  {
   "cell_type": "code",
   "execution_count": 8,
   "metadata": {},
   "outputs": [],
   "source": [
    "data_raw.to_parquet('../data/interim/info_satisfaccion.gzip', compression='gzip')"
   ]
  },
  {
   "attachments": {},
   "cell_type": "markdown",
   "metadata": {},
   "source": [
    "Data set original:\n",
    "-   35 columnas (atributos).\n",
    "-   1470 filas (registros).\n",
    "\n",
    "Después de proceso de limpieza:\n",
    "-   31 columnas (atributos).\n",
    "-   1470 filas (registros)."
   ]
  }
 ],
 "metadata": {
  "kernelspec": {
   "display_name": "env",
   "language": "python",
   "name": "python3"
  },
  "language_info": {
   "codemirror_mode": {
    "name": "ipython",
    "version": 3
   },
   "file_extension": ".py",
   "mimetype": "text/x-python",
   "name": "python",
   "nbconvert_exporter": "python",
   "pygments_lexer": "ipython3",
   "version": "3.10.6"
  },
  "orig_nbformat": 4,
  "vscode": {
   "interpreter": {
    "hash": "2891fce78bd0eaea5ba5e22ec352ddcf68b68d465cff9471a65d4f7766f5534b"
   }
  }
 },
 "nbformat": 4,
 "nbformat_minor": 2
}
